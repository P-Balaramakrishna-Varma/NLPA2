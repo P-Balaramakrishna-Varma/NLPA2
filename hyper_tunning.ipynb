{
 "cells": [
  {
   "cell_type": "code",
   "execution_count": null,
   "metadata": {},
   "outputs": [],
   "source": [
    "import neural_tag\n",
    "import matplotlib.pyplot as plt\n",
    "import torch\n",
    "\n",
    "def plot_loss(data):\n",
    "    data = data.numpy()\n",
    "    x_axis = list(range(1, len(data) + 1))\n",
    "    \n",
    "    plt.clf()\n",
    "    plt.plot(x_axis, data[:, 0], label=\"Train Loss\")\n",
    "    plt.plot(x_axis, data[:, 1], label=\"Validation Loss\")\n",
    "    plt.legend()"
   ]
  },
  {
   "cell_type": "code",
   "execution_count": null,
   "metadata": {},
   "outputs": [],
   "source": [
    "# Hyperparameters\n",
    "hyperpar = {\"embedding_dim\": 200, \"hidden_dim\": 600, \"no_layers\": 2, \"epochs\": 2, \"batch_size\": 32, \"lr\": 0.0004}\n",
    "data = neural_tag.get_loss_values(hyperpar, False)\n",
    "plot_loss(data)\n",
    "print(data)"
   ]
  },
  {
   "cell_type": "code",
   "execution_count": null,
   "metadata": {},
   "outputs": [],
   "source": [
    "hyperpar = {\"embedding_dim\": 200, \"hidden_dim\": 300, \"no_layers\": 1, \"epochs\": 160, \"batch_size\": 32, \"lr\": 0.0001}\n",
    "data = neural_tag.get_loss_values(hyperpar, False)\n",
    "plot_loss(data)\n",
    "print(data)"
   ]
  }
 ],
 "metadata": {
  "kernelspec": {
   "display_name": "balnlp",
   "language": "python",
   "name": "python3"
  },
  "language_info": {
   "codemirror_mode": {
    "name": "ipython",
    "version": 3
   },
   "file_extension": ".py",
   "mimetype": "text/x-python",
   "name": "python",
   "nbconvert_exporter": "python",
   "pygments_lexer": "ipython3",
   "version": "3.10.9"
  },
  "orig_nbformat": 4,
  "vscode": {
   "interpreter": {
    "hash": "1a044f16b585944f053e7ce7d0706bbf5d23cde7200fa66bd5255cfceb0adb0a"
   }
  }
 },
 "nbformat": 4,
 "nbformat_minor": 2
}
