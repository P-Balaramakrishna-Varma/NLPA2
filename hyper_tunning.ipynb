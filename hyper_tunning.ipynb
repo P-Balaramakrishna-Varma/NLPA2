{
 "cells": [
  {
   "cell_type": "code",
   "execution_count": null,
   "metadata": {},
   "outputs": [],
   "source": [
    "import neural_tag\n",
    "import matplotlib.pyplot as plt\n",
    "import torch\n",
    "\n",
    "def plot_loss(data):\n",
    "    data = data.numpy()\n",
    "    x_axis = list(range(1, len(data) + 1))\n",
    "    \n",
    "    plt.clf()\n",
    "    plt.plot(x_axis, data[:, 0], label=\"Train Loss\")\n",
    "    plt.plot(x_axis, data[:, 1], label=\"Validation Loss\")\n",
    "    plt.legend()"
   ]
  },
  {
   "cell_type": "code",
   "execution_count": null,
   "metadata": {},
   "outputs": [],
   "source": [
    "# Hyperparameters\n",
    "hyperpar = {\"embedding_dim\": 128, \"hidden_dim\": 128, \"no_layers\": 2, \"epochs\": 10, \"batch_size\": 32, \"lr\": 0.01}\n",
    "data = neural_tag.get_loss_values(hyperpar)\n",
    "plot_loss(data)"
   ]
  }
 ],
 "metadata": {
  "kernelspec": {
   "display_name": "NLPA2",
   "language": "python",
   "name": "python3"
  },
  "language_info": {
   "codemirror_mode": {
    "name": "ipython",
    "version": 3
   },
   "file_extension": ".py",
   "mimetype": "text/x-python",
   "name": "python",
   "nbconvert_exporter": "python",
   "pygments_lexer": "ipython3",
   "version": "3.10.9"
  },
  "orig_nbformat": 4,
  "vscode": {
   "interpreter": {
    "hash": "8504bc927f8546a9f44ccff208af00e4c1d7be7c289b848d91e14b35fa1a4991"
   }
  }
 },
 "nbformat": 4,
 "nbformat_minor": 2
}
