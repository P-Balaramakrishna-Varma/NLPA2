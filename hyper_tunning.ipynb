{
 "cells": [
  {
   "cell_type": "code",
   "execution_count": 1,
   "metadata": {},
   "outputs": [
    {
     "name": "stderr",
     "output_type": "stream",
     "text": [
      "/home/balaramakrishna.p/anaconda3/envs/NLPA2/lib/python3.10/site-packages/tqdm/auto.py:22: TqdmWarning: IProgress not found. Please update jupyter and ipywidgets. See https://ipywidgets.readthedocs.io/en/stable/user_install.html\n",
      "  from .autonotebook import tqdm as notebook_tqdm\n"
     ]
    }
   ],
   "source": [
    "import neural_tag\n",
    "import matplotlib.pyplot as plt\n",
    "import torch\n",
    "\n",
    "def plot_loss(data):\n",
    "    data = data.numpy()\n",
    "    x_axis = list(range(1, len(data) + 1))\n",
    "    \n",
    "    plt.clf()\n",
    "    plt.plot(x_axis, data[:, 0], label=\"Train Loss\")\n",
    "    plt.plot(x_axis, data[:, 1], label=\"Validation Loss\")\n",
    "    plt.legend()"
   ]
  },
  {
   "cell_type": "code",
   "execution_count": 6,
   "metadata": {},
   "outputs": [
    {
     "name": "stdout",
     "output_type": "stream",
     "text": [
      "Number of GPUs:  2\n"
     ]
    },
    {
     "name": "stderr",
     "output_type": "stream",
     "text": [
      "Process Process-9:\n",
      "Traceback (most recent call last):\n",
      "  File \"/home/balaramakrishna.p/anaconda3/envs/NLPA2/lib/python3.10/multiprocessing/process.py\", line 314, in _bootstrap\n",
      "    self.run()\n",
      "  File \"/home/balaramakrishna.p/anaconda3/envs/NLPA2/lib/python3.10/multiprocessing/process.py\", line 108, in run\n",
      "    self._target(*self._args, **self._kwargs)\n",
      "  File \"/home/balaramakrishna.p/MyFiles/NLP/NLPA2/neural_tag.py\", line 183, in main_distributed_GPU\n",
      "    model = PosTagModel(vocab_size, no_pos_tags, embedding_dim, hidden_dim, no_layers).to(device)\n",
      "  File \"/home/balaramakrishna.p/anaconda3/envs/NLPA2/lib/python3.10/site-packages/torch/nn/modules/module.py\", line 989, in to\n",
      "    return self._apply(convert)\n",
      "  File \"/home/balaramakrishna.p/anaconda3/envs/NLPA2/lib/python3.10/site-packages/torch/nn/modules/module.py\", line 641, in _apply\n",
      "    module._apply(fn)\n",
      "  File \"/home/balaramakrishna.p/anaconda3/envs/NLPA2/lib/python3.10/site-packages/torch/nn/modules/module.py\", line 664, in _apply\n",
      "    param_applied = fn(param)\n",
      "  File \"/home/balaramakrishna.p/anaconda3/envs/NLPA2/lib/python3.10/site-packages/torch/nn/modules/module.py\", line 987, in convert\n",
      "    return t.to(device, dtype if t.is_floating_point() or t.is_complex() else None, non_blocking)\n",
      "RuntimeError: CUDA error: out of memory\n",
      "CUDA kernel errors might be asynchronously reported at some other API call,so the stacktrace below might be incorrect.\n",
      "For debugging consider passing CUDA_LAUNCH_BLOCKING=1.\n",
      "Process Process-10:\n",
      "Traceback (most recent call last):\n",
      "  File \"/home/balaramakrishna.p/anaconda3/envs/NLPA2/lib/python3.10/multiprocessing/process.py\", line 314, in _bootstrap\n",
      "    self.run()\n",
      "  File \"/home/balaramakrishna.p/anaconda3/envs/NLPA2/lib/python3.10/multiprocessing/process.py\", line 108, in run\n",
      "    self._target(*self._args, **self._kwargs)\n",
      "  File \"/home/balaramakrishna.p/MyFiles/NLP/NLPA2/neural_tag.py\", line 186, in main_distributed_GPU\n",
      "    model = DDP(model, device_ids=[device])\n",
      "  File \"/home/balaramakrishna.p/anaconda3/envs/NLPA2/lib/python3.10/site-packages/torch/nn/parallel/distributed.py\", line 655, in __init__\n",
      "    _verify_param_shape_across_processes(self.process_group, parameters)\n",
      "  File \"/home/balaramakrishna.p/anaconda3/envs/NLPA2/lib/python3.10/site-packages/torch/distributed/utils.py\", line 112, in _verify_param_shape_across_processes\n",
      "    return dist._verify_params_across_processes(process_group, tensors, logger)\n",
      "RuntimeError: CUDA error: out of memory\n",
      "CUDA kernel errors might be asynchronously reported at some other API call,so the stacktrace below might be incorrect.\n",
      "For debugging consider passing CUDA_LAUNCH_BLOCKING=1.\n"
     ]
    },
    {
     "ename": "KeyboardInterrupt",
     "evalue": "",
     "output_type": "error",
     "traceback": [
      "\u001b[0;31m---------------------------------------------------------------------------\u001b[0m",
      "\u001b[0;31mKeyboardInterrupt\u001b[0m                         Traceback (most recent call last)",
      "Cell \u001b[0;32mIn[6], line 3\u001b[0m\n\u001b[1;32m      1\u001b[0m \u001b[39m# Hyperparameters\u001b[39;00m\n\u001b[1;32m      2\u001b[0m hyperpar \u001b[39m=\u001b[39m {\u001b[39m\"\u001b[39m\u001b[39membedding_dim\u001b[39m\u001b[39m\"\u001b[39m: \u001b[39m200\u001b[39m, \u001b[39m\"\u001b[39m\u001b[39mhidden_dim\u001b[39m\u001b[39m\"\u001b[39m: \u001b[39m600\u001b[39m, \u001b[39m\"\u001b[39m\u001b[39mno_layers\u001b[39m\u001b[39m\"\u001b[39m: \u001b[39m2\u001b[39m, \u001b[39m\"\u001b[39m\u001b[39mepochs\u001b[39m\u001b[39m\"\u001b[39m: \u001b[39m40\u001b[39m, \u001b[39m\"\u001b[39m\u001b[39mbatch_size\u001b[39m\u001b[39m\"\u001b[39m: \u001b[39m32\u001b[39m, \u001b[39m\"\u001b[39m\u001b[39mlr\u001b[39m\u001b[39m\"\u001b[39m: \u001b[39m0.0004\u001b[39m}\n\u001b[0;32m----> 3\u001b[0m data \u001b[39m=\u001b[39m neural_tag\u001b[39m.\u001b[39;49mget_loss_values(hyperpar)\n\u001b[1;32m      4\u001b[0m plot_loss(data)\n\u001b[1;32m      5\u001b[0m \u001b[39mprint\u001b[39m(data)\n",
      "File \u001b[0;32m~/MyFiles/NLP/NLPA2/neural_tag.py:216\u001b[0m, in \u001b[0;36mget_loss_values\u001b[0;34m(hyperpar)\u001b[0m\n\u001b[1;32m    214\u001b[0m Data \u001b[39m=\u001b[39m torch\u001b[39m.\u001b[39mzeros((hyperpar[\u001b[39m\"\u001b[39m\u001b[39mepochs\u001b[39m\u001b[39m\"\u001b[39m], \u001b[39m2\u001b[39m))\n\u001b[1;32m    215\u001b[0m \u001b[39mfor\u001b[39;00m _ \u001b[39min\u001b[39;00m \u001b[39mrange\u001b[39m(world_size):\n\u001b[0;32m--> 216\u001b[0m     Data \u001b[39m+\u001b[39m\u001b[39m=\u001b[39m qeue\u001b[39m.\u001b[39;49mget()\n\u001b[1;32m    218\u001b[0m \u001b[39mfor\u001b[39;00m event \u001b[39min\u001b[39;00m Events:\n\u001b[1;32m    219\u001b[0m     event\u001b[39m.\u001b[39mset()\n",
      "File \u001b[0;32m~/anaconda3/envs/NLPA2/lib/python3.10/multiprocessing/queues.py:365\u001b[0m, in \u001b[0;36mSimpleQueue.get\u001b[0;34m(self)\u001b[0m\n\u001b[1;32m    363\u001b[0m \u001b[39mdef\u001b[39;00m \u001b[39mget\u001b[39m(\u001b[39mself\u001b[39m):\n\u001b[1;32m    364\u001b[0m     \u001b[39mwith\u001b[39;00m \u001b[39mself\u001b[39m\u001b[39m.\u001b[39m_rlock:\n\u001b[0;32m--> 365\u001b[0m         res \u001b[39m=\u001b[39m \u001b[39mself\u001b[39;49m\u001b[39m.\u001b[39;49m_reader\u001b[39m.\u001b[39;49mrecv_bytes()\n\u001b[1;32m    366\u001b[0m     \u001b[39m# unserialize the data after having released the lock\u001b[39;00m\n\u001b[1;32m    367\u001b[0m     \u001b[39mreturn\u001b[39;00m _ForkingPickler\u001b[39m.\u001b[39mloads(res)\n",
      "File \u001b[0;32m~/anaconda3/envs/NLPA2/lib/python3.10/multiprocessing/connection.py:216\u001b[0m, in \u001b[0;36m_ConnectionBase.recv_bytes\u001b[0;34m(self, maxlength)\u001b[0m\n\u001b[1;32m    214\u001b[0m \u001b[39mif\u001b[39;00m maxlength \u001b[39mis\u001b[39;00m \u001b[39mnot\u001b[39;00m \u001b[39mNone\u001b[39;00m \u001b[39mand\u001b[39;00m maxlength \u001b[39m<\u001b[39m \u001b[39m0\u001b[39m:\n\u001b[1;32m    215\u001b[0m     \u001b[39mraise\u001b[39;00m \u001b[39mValueError\u001b[39;00m(\u001b[39m\"\u001b[39m\u001b[39mnegative maxlength\u001b[39m\u001b[39m\"\u001b[39m)\n\u001b[0;32m--> 216\u001b[0m buf \u001b[39m=\u001b[39m \u001b[39mself\u001b[39;49m\u001b[39m.\u001b[39;49m_recv_bytes(maxlength)\n\u001b[1;32m    217\u001b[0m \u001b[39mif\u001b[39;00m buf \u001b[39mis\u001b[39;00m \u001b[39mNone\u001b[39;00m:\n\u001b[1;32m    218\u001b[0m     \u001b[39mself\u001b[39m\u001b[39m.\u001b[39m_bad_message_length()\n",
      "File \u001b[0;32m~/anaconda3/envs/NLPA2/lib/python3.10/multiprocessing/connection.py:414\u001b[0m, in \u001b[0;36mConnection._recv_bytes\u001b[0;34m(self, maxsize)\u001b[0m\n\u001b[1;32m    413\u001b[0m \u001b[39mdef\u001b[39;00m \u001b[39m_recv_bytes\u001b[39m(\u001b[39mself\u001b[39m, maxsize\u001b[39m=\u001b[39m\u001b[39mNone\u001b[39;00m):\n\u001b[0;32m--> 414\u001b[0m     buf \u001b[39m=\u001b[39m \u001b[39mself\u001b[39;49m\u001b[39m.\u001b[39;49m_recv(\u001b[39m4\u001b[39;49m)\n\u001b[1;32m    415\u001b[0m     size, \u001b[39m=\u001b[39m struct\u001b[39m.\u001b[39munpack(\u001b[39m\"\u001b[39m\u001b[39m!i\u001b[39m\u001b[39m\"\u001b[39m, buf\u001b[39m.\u001b[39mgetvalue())\n\u001b[1;32m    416\u001b[0m     \u001b[39mif\u001b[39;00m size \u001b[39m==\u001b[39m \u001b[39m-\u001b[39m\u001b[39m1\u001b[39m:\n",
      "File \u001b[0;32m~/anaconda3/envs/NLPA2/lib/python3.10/multiprocessing/connection.py:379\u001b[0m, in \u001b[0;36mConnection._recv\u001b[0;34m(self, size, read)\u001b[0m\n\u001b[1;32m    377\u001b[0m remaining \u001b[39m=\u001b[39m size\n\u001b[1;32m    378\u001b[0m \u001b[39mwhile\u001b[39;00m remaining \u001b[39m>\u001b[39m \u001b[39m0\u001b[39m:\n\u001b[0;32m--> 379\u001b[0m     chunk \u001b[39m=\u001b[39m read(handle, remaining)\n\u001b[1;32m    380\u001b[0m     n \u001b[39m=\u001b[39m \u001b[39mlen\u001b[39m(chunk)\n\u001b[1;32m    381\u001b[0m     \u001b[39mif\u001b[39;00m n \u001b[39m==\u001b[39m \u001b[39m0\u001b[39m:\n",
      "\u001b[0;31mKeyboardInterrupt\u001b[0m: "
     ]
    }
   ],
   "source": [
    "# Hyperparameters\n",
    "hyperpar = {\"embedding_dim\": 200, \"hidden_dim\": 600, \"no_layers\": 2, \"epochs\": 40, \"batch_size\": 32, \"lr\": 0.0004}\n",
    "data = neural_tag.get_loss_values(hyperpar)\n",
    "plot_loss(data)\n",
    "print(data)"
   ]
  }
 ],
 "metadata": {
  "kernelspec": {
   "display_name": "NLPA2",
   "language": "python",
   "name": "python3"
  },
  "language_info": {
   "codemirror_mode": {
    "name": "ipython",
    "version": 3
   },
   "file_extension": ".py",
   "mimetype": "text/x-python",
   "name": "python",
   "nbconvert_exporter": "python",
   "pygments_lexer": "ipython3",
   "version": "3.10.9"
  },
  "orig_nbformat": 4,
  "vscode": {
   "interpreter": {
    "hash": "8504bc927f8546a9f44ccff208af00e4c1d7be7c289b848d91e14b35fa1a4991"
   }
  }
 },
 "nbformat": 4,
 "nbformat_minor": 2
}
